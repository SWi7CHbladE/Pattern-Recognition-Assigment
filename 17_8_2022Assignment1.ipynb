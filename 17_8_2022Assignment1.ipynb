{
  "nbformat": 4,
  "nbformat_minor": 0,
  "metadata": {
    "colab": {
      "name": "17-8-2022Assignment1.ipynb",
      "provenance": [],
      "authorship_tag": "ABX9TyNvvVZffwH7KdjfwXOAk+bz",
      "include_colab_link": true
    },
    "kernelspec": {
      "name": "python3",
      "display_name": "Python 3"
    },
    "language_info": {
      "name": "python"
    }
  },
  "cells": [
    {
      "cell_type": "markdown",
      "metadata": {
        "id": "view-in-github",
        "colab_type": "text"
      },
      "source": [
        "<a href=\"https://colab.research.google.com/github/SWi7CHbladE/Pattern-Recognition-Assigment/blob/main/17_8_2022Assignment1.ipynb\" target=\"_parent\"><img src=\"https://colab.research.google.com/assets/colab-badge.svg\" alt=\"Open In Colab\"/></a>"
      ]
    },
    {
      "cell_type": "code",
      "execution_count": null,
      "metadata": {
        "colab": {
          "base_uri": "https://localhost:8080/"
        },
        "id": "dqzxTBdFyXyx",
        "outputId": "92f526a2-f486-4011-a6e2-d3e23ca8dffc"
      },
      "outputs": [
        {
          "output_type": "stream",
          "name": "stdout",
          "text": [
            "[{'index': 'R', 'mean': 9.933684462532918, 'standard deviation': 3.2237830658212117, 'min': 1.0, 'max': 29.0}, {'index': 'L', 'mean': 0.5239920995930094, 'standard deviation': 0.12007853620602839, 'min': 0.075, 'max': 0.815}, {'index': 'D', 'mean': 0.40788125448886764, 'standard deviation': 0.09922798609936374, 'min': 0.055, 'max': 0.65}, {'index': 'H', 'mean': 0.13951639932966242, 'standard deviation': 0.04182204947769995, 'min': 0.0, 'max': 1.13}, {'index': 'WW', 'mean': 0.8287421594445774, 'standard deviation': 0.4903303136137728, 'min': 0.002, 'max': 2.8255}, {'index': 'SW', 'mean': 0.35936748862820206, 'standard deviation': 0.22193637778166947, 'min': 0.001, 'max': 1.488}, {'index': 'VW', 'mean': 0.18059360785252573, 'standard deviation': 0.10960112830473714, 'min': 0.0005, 'max': 0.76}, {'index': 'LW', 'mean': 0.23883085946851806, 'standard deviation': 0.13918600552884794, 'min': 0.0015, 'max': 1.005}]\n",
            "\n",
            "\n",
            "Data in Output2.csv\n"
          ]
        }
      ],
      "source": [
        "import csv                                                                  # Library to process csv files\n",
        "import copy\n",
        "import math\n",
        "\n",
        "def mean(*inp):\n",
        "    length = len(inp)\n",
        "    tmp1 = math.fsum(inp)/length\n",
        "    return(tmp1)\n",
        "\n",
        "def std_dev(*inp):\n",
        "    mn = mean(*inp)\n",
        "    length = len(inp)\n",
        "    tmp = []\n",
        "    for i in inp:                                                           # Store the squares of all the numbers on a list\n",
        "        t = i - mn\n",
        "        tmp.append(math.pow(t,2))\n",
        "    t2 = math.fsum(tmp)/length                                              # Find the variance of the list \n",
        "    res = math.sqrt(t2)                                                     # Standard Deviation = sqrt(variance)\n",
        "    return res\n",
        "\n",
        "\n",
        "def max(*inp):                                                              # Returns the \n",
        "    tmp = [] \n",
        "    tmp.extend(inp)\n",
        "    tmp.sort()\n",
        "    return tmp[-1]\n",
        "\n",
        "\n",
        "def min(*inp):\n",
        "    tmp = [] \n",
        "    tmp.extend(inp)\n",
        "    tmp.sort()\n",
        "    return tmp[0] \n",
        "\n",
        "\n",
        "tuple_index = []\n",
        "out_table = []                                                              # stores the tuples of the output table\n",
        "with open('abalonedata.csv', mode='r') as csv_file:\n",
        "    csv_Dict = csv.DictReader(csv_file)                                     # csv.DictReader(<file_object>) reads through the csv file as a dictionary row by row, where the indices are the first row elements\n",
        "    line_count = 0\n",
        "    tmp = []\n",
        "    for row in csv_Dict:                                                    # Creates a list which contains the dictionaries of all tuples as dictionaries indexed by the indices of the first row\n",
        "        tmp.append(row)\n",
        "        out_table.extend(copy.deepcopy(tmp))\n",
        "        tmp.clear()\n",
        "\n",
        "with open('abalonedata.csv', mode='r') as csv_file:\n",
        "    csv_reader = csv.reader(csv_file)                                       # csv.reader(<file_object>) Reads csv file as list\n",
        "    line_count = 0\n",
        "    for row in csv_reader:\n",
        "        if line_count == 0:\n",
        "            line_count = 1\n",
        "            for x in row:\n",
        "                tuple_index.append(x)\n",
        "            tuple_index.remove(\"S\")                                         # allows only the indices required in the output table\n",
        "\n",
        "\n",
        "\n",
        "database = []\n",
        "for ind in tuple_index:\n",
        "    table = {}\n",
        "    tmp1 = []\n",
        "    for tup in out_table:\n",
        "        tmp1.append(copy.deepcopy(tup[ind]))\n",
        "    for i in tmp1:\n",
        "        tmp.append(float(i))                                                # convert everything to float\n",
        "    table[\"index\"] = str(ind)\n",
        "    table[\"mean\"] = mean(*tmp)\n",
        "    table[\"standard deviation\"] = std_dev(*tmp)\n",
        "    table[\"min\"] = min(*tmp)\n",
        "    table[\"max\"] = max(*tmp)\n",
        "    tmp.clear()\n",
        "    database.append(copy.deepcopy(table))\n",
        "    table.clear()\n",
        "\n",
        "with open(\"output2.csv\",\"w\") as csv_out:                                   # Prints the database to a csv file\n",
        "    writer = csv.writer(csv_out)\n",
        "    flag = 0\n",
        "    for row in database:\n",
        "        if flag==0:\n",
        "            writer.writerow(row)                                           # Prints the indices to the csv file\n",
        "            flag += 1\n",
        "        writer.writerow(row.values())                                      # Prints the contents to the csv file\n",
        "\n",
        "print(database)\n",
        "\n",
        "print(\"\\n\\nData in Output2.csv\")"
      ]
    },
    {
      "cell_type": "code",
      "source": [
        "import csv                                                                  # Library to process csv files\n",
        "import copy\n",
        "import math\n",
        "\n",
        "def mean(*inp):\n",
        "    length = len(inp)\n",
        "    tmp1 = math.fsum(inp)/length\n",
        "    return(tmp1)\n",
        "\n",
        "def std_dev(*inp):\n",
        "    mn = mean(*inp)\n",
        "    length = len(inp)\n",
        "    tmp = []\n",
        "    for i in inp:                                                           # Store the squares of all the numbers on a list\n",
        "        t = i - mn\n",
        "        tmp.append(math.pow(t,2))\n",
        "    t2 = math.fsum(tmp)/length                                              # Find the variance of the list \n",
        "    res = math.sqrt(t2)                                                     # Standard Deviation = sqrt(variance)\n",
        "    return res\n",
        "\n",
        "\n",
        "def max(*inp):                                                              # Returns the \n",
        "    tmp = [] \n",
        "    tmp.extend(inp)\n",
        "    tmp.sort()\n",
        "    return tmp[-1]\n",
        "\n",
        "\n",
        "def min(*inp):\n",
        "    tmp = [] \n",
        "    tmp.extend(inp)\n",
        "    tmp.sort()\n",
        "    return tmp[0] \n",
        "\n",
        "\n",
        "tuple_index = []\n",
        "out_table = []                                                              # stores the tuples of the output table\n",
        "with open('abalonedata.csv', mode='r') as csv_file:\n",
        "    csv_Dict = csv.DictReader(csv_file)                                     # csv.DictReader(<file_object>) reads through the csv file as a dictionary row by row, where the indices are the first row elements\n",
        "    line_count = 0\n",
        "    tmp = []\n",
        "    for row in csv_Dict:                                                    # Creates a list which contains the dictionaries of all tuples as dictionaries indexed by the indices of the first row\n",
        "        tmp.append(row)\n",
        "        out_table.extend(copy.deepcopy(tmp))\n",
        "        tmp.clear()\n",
        "\n",
        "with open('abalonedata.csv', mode='r') as csv_file:\n",
        "    csv_reader = csv.reader(csv_file)                                       # csv.reader(<file_object>) Reads csv file as list\n",
        "    line_count = 0\n",
        "    for row in csv_reader:\n",
        "        if line_count == 0:\n",
        "            line_count = 1\n",
        "            for x in row:\n",
        "                tuple_index.append(x)\n",
        "            tuple_index.remove(\"S\")                                         # allows only the indices required in the output table\n",
        "\n",
        "\n",
        "\n",
        "diff = set([])\n",
        "\n",
        "for i in out_table:                                                         # extracts all possible values of 'S'\n",
        "    diff.add(i['S'])\n",
        "diff = list(diff)\n",
        "\n",
        "\n",
        "\n",
        "database = []\n",
        "t = []\n",
        "table = {}\n",
        "tmp1 = []\n",
        "tmp = []\n",
        "for i in diff:\n",
        "    for ind in tuple_index:\n",
        "        for tup in out_table:\n",
        "            if i == tup['S']:\n",
        "                tmp1.append(copy.deepcopy(tup[ind]))\n",
        "        for x in tmp1:\n",
        "            tmp.append(float(x))\n",
        "        table[\"index\"] = str(ind)\n",
        "        table[\"mean\"] = mean(*tmp)\n",
        "        table[\"standard deviation\"] = std_dev(*tmp)\n",
        "        table[\"min\"] = min(*tmp)\n",
        "        table[\"max\"] = max(*tmp)\n",
        "        tmp1.clear()\n",
        "        t.append(copy.deepcopy(table))    \n",
        "        table.clear()\n",
        "    database.append(copy.deepcopy(t))\n",
        "    t.clear()\n",
        "\n",
        "\n",
        "print(diff)\n",
        "\n",
        "\n",
        "with open(\"output3.csv\",\"w\") as csv_out:                                   # Prints the database to a csv file\n",
        "    writer = csv.writer(csv_out)\n",
        "    flag = 0\n",
        "    flag1 = 0\n",
        "    for item in database:\n",
        "        writer.writerow(diff[flag1])\n",
        "        flag1 += 1\n",
        "        flag = 0\n",
        "        for row in item:\n",
        "            if flag==0:\n",
        "                writer.writerow(row)                                           # Prints the indices to the csv file\n",
        "                flag += 1\n",
        "            writer.writerow(row.values())                                      # Prints the contents to the csv file\n",
        "\n",
        "print(database)\n",
        "\n",
        "\n",
        "print(\"\\n\\nData in Output3.csv\")"
      ],
      "metadata": {
        "colab": {
          "base_uri": "https://localhost:8080/"
        },
        "id": "R06Eztdkzi7T",
        "outputId": "f0e7ed11-0e79-4181-f144-575fbd3b07bd"
      },
      "execution_count": null,
      "outputs": [
        {
          "output_type": "stream",
          "name": "stdout",
          "text": [
            "['I', 'F', 'M']\n",
            "[[{'index': 'R', 'mean': 7.890461997019374, 'standard deviation': 2.510617975350569, 'min': 1.0, 'max': 21.0}, {'index': 'L', 'mean': 4.159103949329359, 'standard deviation': 4.132862782194971, 'min': 0.075, 'max': 21.0}, {'index': 'D', 'mean': 2.881567312468952, 'standard deviation': 3.82803109108865, 'min': 0.055, 'max': 21.0}, {'index': 'H', 'mean': 2.1881743666169897, 'standard deviation': 3.5260464528567383, 'min': 0.0, 'max': 21.0}, {'index': 'WW', 'mean': 1.8368119970193741, 'standard deviation': 3.2336671677986577, 'min': 0.0, 'max': 21.0}, {'index': 'SW', 'mean': 1.5625158345752608, 'standard deviation': 3.015422688524091, 'min': 0.0, 'max': 21.0}, {'index': 'VW', 'mean': 1.3524435810091546, 'standard deviation': 2.8388636198068187, 'min': 0.0, 'max': 21.0}, {'index': 'LW', 'mean': 1.199410907228018, 'standard deviation': 2.6863706409000856, 'min': 0.0, 'max': 21.0}], [{'index': 'R', 'mean': 2.2770800880179354, 'standard deviation': 4.12530887845354, 'min': 0.0, 'max': 29.0}, {'index': 'L', 'mean': 2.110842734082397, 'standard deviation': 3.9506214374532505, 'min': 0.0, 'max': 29.0}, {'index': 'D', 'mean': 1.9631633690386847, 'standard deviation': 3.7998515979320926, 'min': 0.0, 'max': 29.0}, {'index': 'H', 'mean': 1.815372431721373, 'standard deviation': 3.6744810278384823, 'min': 0.0, 'max': 29.0}, {'index': 'WW', 'mean': 1.7571896821261073, 'standard deviation': 3.5405364443497573, 'min': 0.0, 'max': 29.0}, {'index': 'SW', 'mean': 1.6649580417698353, 'standard deviation': 3.43055261498233, 'min': 0.0, 'max': 29.0}, {'index': 'VW', 'mean': 1.5706864722152376, 'standard deviation': 3.3349826114328947, 'min': 0.0, 'max': 29.0}, {'index': 'LW', 'mean': 1.492441841260853, 'standard deviation': 3.2450392143536524, 'min': 0.0, 'max': 29.0}], [{'index': 'R', 'mean': 2.1120522667253523, 'standard deviation': 3.970167142396451, 'min': 0.0, 'max': 29.0}, {'index': 'L', 'mean': 2.0143365432200593, 'standard deviation': 3.861554381287936, 'min': 0.0, 'max': 29.0}, {'index': 'D', 'mean': 1.9209676637181876, 'standard deviation': 3.763828911123684, 'min': 0.0, 'max': 29.0}, {'index': 'H', 'mean': 1.8219371703779665, 'standard deviation': 3.6795549011979354, 'min': 0.0, 'max': 29.0}, {'index': 'WW', 'mean': 1.7779246150110988, 'standard deviation': 3.5871908747189525, 'min': 0.0, 'max': 29.0}, {'index': 'SW', 'mean': 1.7102326745718048, 'standard deviation': 3.5084563850587127, 'min': 0.0, 'max': 29.0}, {'index': 'VW', 'mean': 1.6386106372303062, 'standard deviation': 3.438296723886601, 'min': 0.0, 'max': 29.0}, {'index': 'LW', 'mean': 1.5765760414172851, 'standard deviation': 3.370816285607049, 'min': 0.0, 'max': 29.0}]]\n",
            "\n",
            "\n",
            "Data in Output3.csv\n"
          ]
        }
      ]
    },
    {
      "cell_type": "code",
      "source": [
        "import pandas as pd\n",
        "data = pd.read_csv(\"abalonedata.csv\")\n",
        "data.corr().to_csv(\"output4.csv\")\n",
        "print(data.corr())\n",
        "print(\"\\n\\nData in Output4.csv\")"
      ],
      "metadata": {
        "colab": {
          "base_uri": "https://localhost:8080/"
        },
        "id": "zJ_dYUcoztwE",
        "outputId": "30707886-081d-41cb-e707-484005c4a3e1"
      },
      "execution_count": null,
      "outputs": [
        {
          "output_type": "stream",
          "name": "stdout",
          "text": [
            "           R         L         D         H        WW        SW        VW  \\\n",
            "R   1.000000  0.556720  0.574660  0.557467  0.540390  0.420884  0.503819   \n",
            "L   0.556720  1.000000  0.986812  0.827554  0.925261  0.897914  0.903018   \n",
            "D   0.574660  0.986812  1.000000  0.833684  0.925452  0.893162  0.899724   \n",
            "H   0.557467  0.827554  0.833684  1.000000  0.819221  0.774972  0.798319   \n",
            "WW  0.540390  0.925261  0.925452  0.819221  1.000000  0.969405  0.966375   \n",
            "SW  0.420884  0.897914  0.893162  0.774972  0.969405  1.000000  0.931961   \n",
            "VW  0.503819  0.903018  0.899724  0.798319  0.966375  0.931961  1.000000   \n",
            "LW  0.627574  0.897706  0.905330  0.817338  0.955355  0.882617  0.907656   \n",
            "\n",
            "          LW  \n",
            "R   0.627574  \n",
            "L   0.897706  \n",
            "D   0.905330  \n",
            "H   0.817338  \n",
            "WW  0.955355  \n",
            "SW  0.882617  \n",
            "VW  0.907656  \n",
            "LW  1.000000  \n",
            "\n",
            "\n",
            "Data in Output4.csv\n"
          ]
        }
      ]
    },
    {
      "cell_type": "code",
      "source": [
        "import pandas as pd\n",
        "data = pd.read_csv(\"abalonedata.csv\")\n",
        "print(data.boxplot(column = [\"L\",\"D\",\"H\",\"WW\",\"SW\",\"VW\",\"LW\"]))"
      ],
      "metadata": {
        "colab": {
          "base_uri": "https://localhost:8080/",
          "height": 282
        },
        "id": "GOHsioFfzxbU",
        "outputId": "2408f98b-3d54-49c2-fa7b-001a3d90c890"
      },
      "execution_count": null,
      "outputs": [
        {
          "output_type": "stream",
          "name": "stdout",
          "text": [
            "AxesSubplot(0.125,0.125;0.775x0.755)\n"
          ]
        },
        {
          "output_type": "display_data",
          "data": {
            "text/plain": [
              "<Figure size 432x288 with 1 Axes>"
            ],
            "image/png": "[encoded data removed]"
          },
          "metadata": {
            "needs_background": "light"
          }
        }
      ]
    },
    {
      "cell_type": "code",
      "source": [
        "print(data.boxplot(column = [\"R\"]))"
      ],
      "metadata": {
        "id": "yD4N-wIVz-09",
        "colab": {
          "base_uri": "https://localhost:8080/",
          "height": 284
        },
        "outputId": "392da928-c157-483e-f9a3-f0d1a7843b21"
      },
      "execution_count": null,
      "outputs": [
        {
          "output_type": "stream",
          "name": "stdout",
          "text": [
            "AxesSubplot(0.125,0.125;0.775x0.755)\n"
          ]
        },
        {
          "output_type": "display_data",
          "data": {
            "text/plain": [
              "<Figure size 432x288 with 1 Axes>"
            ],
            "image/png": "[encoded data removed]"
          },
          "metadata": {
            "needs_background": "light"
          }
        }
      ]
    },
    {
      "cell_type": "code",
      "source": [
        ""
      ],
      "metadata": {
        "id": "xyx4ZvFrwSlx"
      },
      "execution_count": null,
      "outputs": []
    }
  ]
}